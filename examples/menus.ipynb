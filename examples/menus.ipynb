{
 "cells": [
  {
   "cell_type": "markdown",
   "id": "14f8b38a-b367-4b13-b08a-3870159a0843",
   "metadata": {},
   "source": [
    "# Adding custom menus"
   ]
  },
  {
   "cell_type": "code",
   "execution_count": null,
   "id": "2374a365-293b-47bc-84f5-afd64b0326a7",
   "metadata": {},
   "outputs": [],
   "source": [
    "%pip install -q ipylab"
   ]
  },
  {
   "cell_type": "code",
   "execution_count": null,
   "id": "33b5968a-ef41-4532-9c0a-89cde761e6bd",
   "metadata": {},
   "outputs": [],
   "source": [
    "from ipylab import JupyterFrontEnd\n",
    "app = JupyterFrontEnd()"
   ]
  },
  {
   "cell_type": "markdown",
   "id": "fff9819b-144a-4a18-be2e-0a665dba5919",
   "metadata": {},
   "source": [
    "New menus might be added to the main menubar of the notebook. A menu is specified with a list of entries and each entry is \n",
    "a dictionary with two keys, _name_, that labels the entry in the menu and, another one, that specifies the type and content of the entry:\n",
    "\n",
    "* *snippet* specifies an entry that creates a new cell and pastes in this latter the specified text;\n",
    "* *run-snippet* specifies an entry that creates a new cell containing the specifed text and request the kernel to exexecute it;\n",
    "* *command* indicates the content of the entry is identifier of an existing command (for instance 'help:about') or a Python function;\n",
    "* *external-link* refers to an URL that should be opened in a separate tab.\n",
    "* *sub-menu* indicates the entry describes a submenu."
   ]
  },
  {
   "cell_type": "code",
   "execution_count": null,
   "id": "3cf735c1-722b-4c98-9228-b7a5d685ec3a",
   "metadata": {},
   "outputs": [],
   "source": [
    "app_menu = [\n",
    "    { \"name\" : \"App Version\", \"snippet\" : \"app.version\" },\n",
    "    { \"name\" : \"Print App Version\", \"run-snippet\" : \"\"\"\n",
    "    print(app.version)\n",
    "\"\"\" }\n",
    "]"
   ]
  },
  {
   "cell_type": "code",
   "execution_count": null,
   "id": "5f6b6851-72d4-49e2-836f-69373b0ade60",
   "metadata": {},
   "outputs": [],
   "source": [
    "app.menu.add_menu(\"App\", app_menu)"
   ]
  },
  {
   "cell_type": "markdown",
   "id": "0169e955-909e-437e-b6d4-a18b25f5b404",
   "metadata": {},
   "source": [
    "Menus can be removed using their title:"
   ]
  },
  {
   "cell_type": "code",
   "execution_count": null,
   "id": "9957c52d-fcd7-47d3-b61b-88d27bd7fefa",
   "metadata": {},
   "outputs": [],
   "source": [
    "app.menu.remove_menu(\"App\")"
   ]
  },
  {
   "cell_type": "markdown",
   "id": "7d940a63-49b5-44d0-9e72-360842554c7e",
   "metadata": {},
   "source": [
    "Commands can be used as callback:"
   ]
  },
  {
   "cell_type": "code",
   "execution_count": null,
   "id": "4a2fe640-5c9d-4e9d-9a60-07017cf4894c",
   "metadata": {},
   "outputs": [],
   "source": [
    "from ipywidgets import Output\n",
    "out = Output()\n",
    "\n",
    "import random\n",
    "\n",
    "def print_rnd():\n",
    "    with out:\n",
    "        print(random.randint(0, 100))\n",
    "\n",
    "def direct_print_rnd():\n",
    "    with out:\n",
    "        print(f\"Direct {random.randint(0, 100)}\")\n",
    "\n",
    "app.commands.add_command(\"print_rnd\", print_rnd)\n",
    "out"
   ]
  },
  {
   "cell_type": "code",
   "execution_count": null,
   "id": "1b6f392a-ef79-469f-bd67-1e5eef63a6a7",
   "metadata": {},
   "outputs": [],
   "source": [
    "app.menu.add_menu(\"Commands\", [ \n",
    "    { \"name\" : \"Print random\", \"command\" : \"print_rnd\" }, \n",
    "    { \"name\" : \"Direct Print random\", \"command\" : direct_print_rnd }, \n",
    "    { \"name\" : \"About...\", \"command\" : \"help:about\" }, \n",
    "    { \"name\" : \"App\", \"sub-menu\" : app_menu } ])"
   ]
  },
  {
   "cell_type": "code",
   "execution_count": null,
   "id": "0da23dfa-5b04-4ee6-97a3-a0d8837bc96a",
   "metadata": {},
   "outputs": [],
   "source": []
  }
 ],
 "metadata": {
  "kernelspec": {
   "display_name": "Python 3 (ipykernel)",
   "language": "python",
   "name": "python3"
  },
  "language_info": {
   "codemirror_mode": {
    "name": "ipython",
    "version": 3
   },
   "file_extension": ".py",
   "mimetype": "text/x-python",
   "name": "python",
   "nbconvert_exporter": "python",
   "pygments_lexer": "ipython3",
   "version": "3.12.10"
  }
 },
 "nbformat": 4,
 "nbformat_minor": 5
}
