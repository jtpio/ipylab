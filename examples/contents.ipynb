{
 "cells": [
  {
   "cell_type": "markdown",
   "id": "b0fe59fc-2f42-4ee5-b1cf-d3a73ccd80b2",
   "metadata": {},
   "source": [
    "# Contents"
   ]
  },
  {
   "cell_type": "markdown",
   "id": "531ea466-29a1-43b9-87bd-99432eaf9239",
   "metadata": {},
   "source": [
    "### ContentsManager"
   ]
  },
  {
   "cell_type": "code",
   "execution_count": null,
   "id": "3854222d-d955-416f-8c19-acda05c940bc",
   "metadata": {},
   "outputs": [],
   "source": [
    "import sys\n",
    "import uuid\n",
    "from IPython.display import JSON\n",
    "\n",
    "path = \"examples/contents.ipynb\"\n",
    "if \"pyodide\" in sys.modules:\n",
    "    %pip install ipylab\n",
    "    path = \"contents.ipynb\""
   ]
  },
  {
   "cell_type": "code",
   "execution_count": null,
   "id": "1bf0d356-1e8b-4486-bf87-6086919c629e",
   "metadata": {},
   "outputs": [],
   "source": [
    "from ipylab import JupyterFrontEnd"
   ]
  },
  {
   "cell_type": "code",
   "execution_count": null,
   "id": "db015374-352c-442b-af4e-81bc8d5e6db8",
   "metadata": {},
   "outputs": [],
   "source": [
    "app = JupyterFrontEnd()"
   ]
  },
  {
   "cell_type": "code",
   "execution_count": null,
   "id": "aff5288d-2cf6-4304-ba94-966480174534",
   "metadata": {},
   "outputs": [],
   "source": [
    "app.contents"
   ]
  },
  {
   "cell_type": "code",
   "execution_count": null,
   "id": "d3dfcf18-c84d-4d5c-b4c9-1d1d37ad15ca",
   "metadata": {},
   "outputs": [],
   "source": [
    "this_notebook = app.contents.get(path, content=True)\n",
    "this_notebook"
   ]
  },
  {
   "cell_type": "code",
   "execution_count": null,
   "id": "23cdb103-2b14-4528-b13f-567c0afa38bc",
   "metadata": {},
   "outputs": [],
   "source": [
    "JSON(this_notebook.content)"
   ]
  },
  {
   "cell_type": "code",
   "execution_count": null,
   "id": "ec496589-101e-48f8-ac60-0c84238cd62a",
   "metadata": {},
   "outputs": [],
   "source": [
    "new_content = dict(this_notebook.content.items())\n",
    "new_content.update(\n",
    "    cells=[\n",
    "        {\n",
    "            'cell_type': 'code',\n",
    "            'execution_count': None,\n",
    "            'id': str(__import__(\"uuid\").uuid4()),\n",
    "            'metadata': {},\n",
    "            'outputs': [],\n",
    "            'source': 'print(\"HELLO WORLD\")'\n",
    "        },\n",
    "        *new_content[\"cells\"]\n",
    "    ]\n",
    ")\n",
    "JSON(new_content)"
   ]
  },
  {
   "cell_type": "code",
   "execution_count": null,
   "id": "61c0a006-d40d-43fb-b67e-c2308da92344",
   "metadata": {},
   "outputs": [],
   "source": [
    "this_notebook.content = new_content"
   ]
  },
  {
   "cell_type": "code",
   "execution_count": null,
   "id": "ad137fa0-a5f8-48ac-ada0-0dbda9cb803e",
   "metadata": {},
   "outputs": [],
   "source": [
    "new_content = dict(this_notebook.content.items())\n",
    "new_content.update(\n",
    "    cells=[\n",
    "        {\n",
    "            'cell_type': 'code',\n",
    "            'execution_count': None,\n",
    "            'id': str(__import__(\"uuid\").uuid4()),\n",
    "            'metadata': {},\n",
    "            'outputs': [],\n",
    "            'source': 'print(\"HELLO WORLD\")'\n",
    "        },\n",
    "        *new_content[\"cells\"]\n",
    "    ]\n",
    ")"
   ]
  },
  {
   "cell_type": "code",
   "execution_count": null,
   "id": "65053177-480d-4d94-a08f-93d3f25e13f7",
   "metadata": {},
   "outputs": [],
   "source": [
    "this_notebook.content = new_content"
   ]
  },
  {
   "cell_type": "code",
   "execution_count": null,
   "id": "4f632caa-6625-46af-bb95-2fcd812e2919",
   "metadata": {},
   "outputs": [],
   "source": [
    "this_notebook.content"
   ]
  }
 ],
 "metadata": {
  "kernelspec": {
   "display_name": "Python 3 (ipykernel)",
   "language": "python",
   "name": "python3"
  },
  "language_info": {
   "codemirror_mode": {
    "name": "ipython",
    "version": 3
   },
   "file_extension": ".py",
   "mimetype": "text/x-python",
   "name": "python",
   "nbconvert_exporter": "python",
   "pygments_lexer": "ipython3",
   "version": "3.11.6"
  }
 },
 "nbformat": 4,
 "nbformat_minor": 5
}
