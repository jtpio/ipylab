{
 "cells": [
  {
   "cell_type": "markdown",
   "id": "5a616073-72f6-4334-952f-cde22166e54a",
   "metadata": {},
   "source": [
    "# Customizing the toolbar with new buttons"
   ]
  },
  {
   "cell_type": "code",
   "execution_count": null,
   "id": "f07bab00-ff9f-4358-9559-e5a1d28a3851",
   "metadata": {},
   "outputs": [],
   "source": [
    "%pip install -q ipylab"
   ]
  },
  {
   "cell_type": "code",
   "execution_count": null,
   "id": "8b440ada-ae03-4a59-8429-3317fda2b24e",
   "metadata": {},
   "outputs": [],
   "source": [
    "from ipylab import JupyterFrontEnd\n",
    "app = JupyterFrontEnd()"
   ]
  },
  {
   "cell_type": "markdown",
   "id": "418df157-9cd8-4c73-ba8f-466926d8ac9b",
   "metadata": {},
   "source": [
    "Toolbar buttons are decorated by icons that can be specified in different ways.\n",
    "1. Using an existing [LabIcon](https://jupyterlab.readthedocs.io/en/latest/extension/ui_components.html#labicon-set-up-and-render-icons) identifier, for instance 'ui-components:add'. Such identifier can be found in the [source code of jupyterlab](https://github.com/jupyterlab/jupyterlab/blob/main/packages/ui-components/src/icon/iconimports.ts);\n",
    "2. Using a LabIcon object (see notebook [icons](./icons.ipynb));\n",
    "3. Using a class name attached to the button.\n",
    "\n",
    "The callback attached to a button is the identifier of an existing command (see the notebook [commands](./commands.ipynb))."
   ]
  },
  {
   "cell_type": "code",
   "execution_count": null,
   "id": "dd7ffe74-3b6e-4984-89f5-b481873998ee",
   "metadata": {},
   "outputs": [],
   "source": [
    "from ipywidgets import Output\n",
    "out = Output()\n",
    "out"
   ]
  },
  {
   "cell_type": "code",
   "execution_count": null,
   "id": "7999123a-b49d-4776-854a-6cd649c30e4a",
   "metadata": {},
   "outputs": [],
   "source": [
    "def print_rnd(id):\n",
    "    import random\n",
    "    with out:\n",
    "        print(f\"button '{id}' picked random number {random.randint(0, 100)}\")\n",
    "\n",
    "app.commands.add_command(\"print_rnd\", print_rnd)"
   ]
  },
  {
   "cell_type": "code",
   "execution_count": null,
   "id": "d6459321-81ed-4a2d-8ed0-59467b23c986",
   "metadata": {},
   "outputs": [],
   "source": [
    "app.commands.execute(\"print_rnd\", { \"id\" : \"not a button\" })"
   ]
  },
  {
   "cell_type": "code",
   "execution_count": null,
   "id": "cc16e493-c620-4657-875b-5c1da36f7903",
   "metadata": {},
   "outputs": [],
   "source": [
    "app.toolbar.add_button(\"button-no-icon\", \"print_rnd\", { \"id\" : \"not a button\" })"
   ]
  },
  {
   "cell_type": "markdown",
   "id": "283b0eab-e27f-47da-8aa5-248a9356a48f",
   "metadata": {},
   "source": [
    "The name used at the creation can be used to remove the button:"
   ]
  },
  {
   "cell_type": "code",
   "execution_count": null,
   "id": "3c2d8927-465c-4372-9fba-5aff30cd6e12",
   "metadata": {},
   "outputs": [],
   "source": [
    "app.toolbar.remove_button(\"button-no-icon\")"
   ]
  },
  {
   "cell_type": "code",
   "execution_count": null,
   "id": "847d12eb-dc09-4116-8122-b56deb9b6909",
   "metadata": {},
   "outputs": [],
   "source": [
    "app.toolbar.add_button(\"B1\", \"print_rnd\", { \"id\" : \"B1\" }, icon = \"ui-components:add-above\", tooltip=\"B1\", after = \"cellType\")\n",
    "app.toolbar.add_button(\"B2\", \"print_rnd\", { \"id\" : \"B2\" }, icon = \"ui-components:add\", tooltip=\"B2\", after = \"B1\")"
   ]
  },
  {
   "cell_type": "markdown",
   "id": "58b7fe94-abaa-423b-b7dc-0477a931b7b4",
   "metadata": {},
   "source": [
    "We now create a button with an icon created from a SVG file:"
   ]
  },
  {
   "cell_type": "code",
   "execution_count": null,
   "id": "a3413382-8ae2-4e14-b85a-ffb78cd0d669",
   "metadata": {},
   "outputs": [],
   "source": [
    "from pathlib import Path\n",
    "\n",
    "svgstr = Path('jl-user.svg').read_text() \n",
    "svgstr"
   ]
  },
  {
   "cell_type": "code",
   "execution_count": null,
   "id": "24c5d20e-a92f-4386-a858-3be03bd55321",
   "metadata": {},
   "outputs": [],
   "source": [
    "from ipylab import Icon\n",
    "\n",
    "icon = Icon(name=\"custom:icon\", svgstr=svgstr)\n",
    "icon"
   ]
  },
  {
   "cell_type": "code",
   "execution_count": null,
   "id": "cfd72617-b790-4d6e-bec1-792490ef8390",
   "metadata": {},
   "outputs": [],
   "source": [
    "app.toolbar.add_button(\"B3\", \"print_rnd\", { \"id\" : \"B3 SVG\" }, icon = icon, tooltip=\"B3\", after = \"B1\")"
   ]
  },
  {
   "cell_type": "code",
   "execution_count": null,
   "id": "fbe85514-a5f2-40f8-be06-fcdf9472fd92",
   "metadata": {},
   "outputs": [],
   "source": [
    "app.toolbar.add_button(\"B4\", \"print_rnd\", { \"id\" : \"B4 SVG\" }, icon = \"custom:icon\", tooltip=\"B4\", after = \"B3\")"
   ]
  },
  {
   "cell_type": "markdown",
   "id": "82118f4d-de36-4d8b-a13a-ed6d027570c0",
   "metadata": {},
   "source": [
    "It is also possible to specify classes for icons:"
   ]
  },
  {
   "cell_type": "code",
   "execution_count": null,
   "id": "63c9b72b-c458-4e85-bd02-65db02b64839",
   "metadata": {},
   "outputs": [],
   "source": [
    "app.toolbar.add_button(\"B5\", \"print_rnd\", { \"id\" : \"B5 FA\" }, iconClass = \"fa fa-sun\", tooltip=\"B5\", after = \"B4\") "
   ]
  }
 ],
 "metadata": {
  "kernelspec": {
   "display_name": "Python 3 (ipykernel)",
   "language": "python",
   "name": "python3"
  },
  "language_info": {
   "codemirror_mode": {
    "name": "ipython",
    "version": 3
   },
   "file_extension": ".py",
   "mimetype": "text/x-python",
   "name": "python",
   "nbconvert_exporter": "python",
   "pygments_lexer": "ipython3",
   "version": "3.12.10"
  }
 },
 "nbformat": 4,
 "nbformat_minor": 5
}
